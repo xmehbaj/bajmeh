# Data Science Tools and Ecosystem
In this notebook, Data Science Tools and Ecosystem are summarized.
**Objectives:**

- Explore the fundamentals of data analysis
- List popular languages for Data Science
- Discuss common libraries and tools for Data Science
- Examine the importance of machine learning in Data Science
- Understand data visualization techniques
# Some of the popular languages that Data Scientists use are:
1. **Python**  

2. **R**  
      
3. **Julia**  

4. **Scala**  

   

# Some of the commonly used libraries used by Data Scientists include:
numpy, pandas,  seaborn, matplotlib

| Data Science Tools          |
|-----------------------------|
| Jupyter Notebook            |
| RStudio                     |
| Jupyter Lab                 |

### Introduction to Arithmetic Expressions

Below are a few examples of simple arithmetic expressions:
1. **Addition**: `2 + 3 = 5`
2. **Subtraction**: `7 - 4 = 3`
3. **Multiplication**: `6 * 5 = 30`
4. **Division**: `20 / 4 = 5`
# This is a simple arithmetic expression to multiply then add integers.
(3*4) + 5  # Expected result is 17


# This will convert 200 minutes to hours by dividing by 60
minutes = 200
hours = minutes / 60
hours

## Author
AssadPT
