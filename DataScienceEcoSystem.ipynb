{
 "cells": [
  {
   "cell_type": "markdown",
   "id": "db4ef01f-4ea1-46cd-9fab-8d7063c3ff59",
   "metadata": {},
   "source": [
    "# Data Science Tools and Ecosystem\n",
    "In this notebook, Data Science Tools and Ecosystem are summarized."
   ]
  },
  {
   "cell_type": "markdown",
   "id": "03edb3f7-a333-44c7-9362-24a2d5e40850",
   "metadata": {},
   "source": [
    "**Objectives:**\n",
    "\n",
    "- Explore the fundamentals of data analysis\n",
    "- List popular languages for Data Science\n",
    "- Discuss common libraries and tools for Data Science\n",
    "- Examine the importance of machine learning in Data Science\n",
    "- Understand data visualization techniques"
   ]
  },
  {
   "cell_type": "markdown",
   "id": "d400224a-d577-46d9-bbac-9662dd3d9f1a",
   "metadata": {},
   "source": [
    "# Some of the popular languages that Data Scientists use are:\n",
    "1. **Python**  \n",
    "\n",
    "2. **R**  \n",
    "      \n",
    "3. **Julia**  \n",
    "\n",
    "4. **Scala**  \n",
    "\n",
    "   \n"
   ]
  },
  {
   "cell_type": "markdown",
   "id": "978726d5-013b-4c70-ab9e-611cc5fc78ae",
   "metadata": {},
   "source": [
    "# Some of the commonly used libraries used by Data Scientists include:\n",
    "numpy, pandas,  seaborn, matplotlib\n"
   ]
  },
  {
   "cell_type": "markdown",
   "id": "bb1d5725-4607-4c6e-9625-ef18dd51b42f",
   "metadata": {},
   "source": [
    "| Data Science Tools          |\r\n",
    "|-----------------------------|\r\n",
    "| Jupyter Notebook            |\r\n",
    "| RStudio                     |Jupyter Lablin                  |\r\n"
   ]
  },
  {
   "cell_type": "markdown",
   "id": "46824284-2809-4590-bc80-04bf549ce646",
   "metadata": {},
   "source": [
    "### Introduction to Arithmetic Expressions\n",
    "\n",
    "Below are a few examples of simple arithmetic expressions:\n",
    "1. **Addition**: `2 + 3 = 5`\n",
    "2. **Subtraction**: `7 - 4 = 3`\n",
    "3. **Multiplication**: `6 * 5 = 30`\n",
    "4. **Division**: `20 / 4 = 5`"
   ]
  },
  {
   "cell_type": "code",
   "execution_count": 13,
   "id": "de402208-25c0-4634-9b90-26bbe958b7a1",
   "metadata": {},
   "outputs": [
    {
     "data": {
      "text/plain": [
       "17"
      ]
     },
     "execution_count": 13,
     "metadata": {},
     "output_type": "execute_result"
    }
   ],
   "source": [
    "# This is a simple arithmetic expression to multiply then add integers.\n",
    "(3*4) + 5  # Expected result is 17\n",
    "\n"
   ]
  },
  {
   "cell_type": "code",
   "execution_count": 14,
   "id": "977875b5-563d-40a9-a4e1-78988ce3fe44",
   "metadata": {},
   "outputs": [
    {
     "data": {
      "text/plain": [
       "3.3333333333333335"
      ]
     },
     "execution_count": 14,
     "metadata": {},
     "output_type": "execute_result"
    }
   ],
   "source": [
    "# This will convert 200 minutes to hours by dividing by 60\r\n",
    "minutes = 200\r\n",
    "hours = minutes / 60\r\n",
    "hours\r\n"
   ]
  },
  {
   "cell_type": "markdown",
   "id": "923078e7-8432-4ef6-a65b-e426de707f3c",
   "metadata": {},
   "source": [
    "## Author\r\n",
    "AssadPT\r\n"
   ]
  }
 ],
 "metadata": {
  "kernelspec": {
   "display_name": "Python 3 (ipykernel)",
   "language": "python",
   "name": "python3"
  },
  "language_info": {
   "codemirror_mode": {
    "name": "ipython",
    "version": 3
   },
   "file_extension": ".py",
   "mimetype": "text/x-python",
   "name": "python",
   "nbconvert_exporter": "python",
   "pygments_lexer": "ipython3",
   "version": "3.12.4"
  }
 },
 "nbformat": 4,
 "nbformat_minor": 5
}
